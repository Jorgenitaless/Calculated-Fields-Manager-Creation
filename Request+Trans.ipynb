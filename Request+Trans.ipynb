{
 "cells": [
  {
   "cell_type": "code",
   "execution_count": null,
   "id": "46c34aad",
   "metadata": {},
   "outputs": [],
   "source": [
    "from lxml import etree\n",
    "\n",
    "# Cargar archivo XML de entrada\n",
    "input_xml = etree.parse(\"BNB_CF_Project_Outpput_Worker_Position.xml\")\n",
    "\n",
    "# Cargar archivo XSLT de transformación\n",
    "transform = etree.XSLT(etree.parse(\"BNB_Classes_Report_Cleaner.xslt\"))\n",
    "\n",
    "# Aplicar la transformación al archivo XML\n",
    "output_xml = transform(input_xml)\n",
    "\n",
    "# Escribir el resultado de la transformación en un archivo de salida\n",
    "with open(\"resultado.xslt\", \"wb\") as f:\n",
    "    print(output_xml)\n",
    "    save(output_xml)"
   ]
  }
 ],
 "metadata": {
  "kernelspec": {
   "display_name": "Python 3 (ipykernel)",
   "language": "python",
   "name": "python3"
  },
  "language_info": {
   "codemirror_mode": {
    "name": "ipython",
    "version": 3
   },
   "file_extension": ".py",
   "mimetype": "text/x-python",
   "name": "python",
   "nbconvert_exporter": "python",
   "pygments_lexer": "ipython3",
   "version": "3.9.13"
  }
 },
 "nbformat": 4,
 "nbformat_minor": 5
}
